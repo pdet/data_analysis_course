{
  "nbformat": 4,
  "nbformat_minor": 0,
  "metadata": {
    "colab": {
      "provenance": [],
      "toc_visible": true,
      "collapsed_sections": [
        "5iBu0dcg24kG"
      ]
    },
    "kernelspec": {
      "name": "python3",
      "display_name": "Python 3"
    },
    "language_info": {
      "name": "python"
    },
    "widgets": {
      "application/vnd.jupyter.widget-state+json": {
        "466f2b7bc9494398853df1631fded357": {
          "model_module": "@jupyter-widgets/controls",
          "model_name": "FloatProgressModel",
          "model_module_version": "1.5.0",
          "state": {
            "_dom_classes": [],
            "_model_module": "@jupyter-widgets/controls",
            "_model_module_version": "1.5.0",
            "_model_name": "FloatProgressModel",
            "_view_count": null,
            "_view_module": "@jupyter-widgets/controls",
            "_view_module_version": "1.5.0",
            "_view_name": "ProgressView",
            "bar_style": "",
            "description": "",
            "description_tooltip": null,
            "layout": "IPY_MODEL_bd0c861e0cd740ac855ba5d19ca5cbc4",
            "max": 100,
            "min": 0,
            "orientation": "horizontal",
            "style": "IPY_MODEL_8b460dcbaccc48e9a2568ba67f1f3312",
            "value": 100
          }
        },
        "bd0c861e0cd740ac855ba5d19ca5cbc4": {
          "model_module": "@jupyter-widgets/base",
          "model_name": "LayoutModel",
          "model_module_version": "1.2.0",
          "state": {
            "_model_module": "@jupyter-widgets/base",
            "_model_module_version": "1.2.0",
            "_model_name": "LayoutModel",
            "_view_count": null,
            "_view_module": "@jupyter-widgets/base",
            "_view_module_version": "1.2.0",
            "_view_name": "LayoutView",
            "align_content": null,
            "align_items": null,
            "align_self": null,
            "border": null,
            "bottom": null,
            "display": null,
            "flex": null,
            "flex_flow": null,
            "grid_area": null,
            "grid_auto_columns": null,
            "grid_auto_flow": null,
            "grid_auto_rows": null,
            "grid_column": null,
            "grid_gap": null,
            "grid_row": null,
            "grid_template_areas": null,
            "grid_template_columns": null,
            "grid_template_rows": null,
            "height": null,
            "justify_content": null,
            "justify_items": null,
            "left": null,
            "margin": null,
            "max_height": null,
            "max_width": null,
            "min_height": null,
            "min_width": null,
            "object_fit": null,
            "object_position": null,
            "order": null,
            "overflow": null,
            "overflow_x": null,
            "overflow_y": null,
            "padding": null,
            "right": null,
            "top": null,
            "visibility": null,
            "width": "auto"
          }
        },
        "8b460dcbaccc48e9a2568ba67f1f3312": {
          "model_module": "@jupyter-widgets/controls",
          "model_name": "ProgressStyleModel",
          "model_module_version": "1.5.0",
          "state": {
            "_model_module": "@jupyter-widgets/controls",
            "_model_module_version": "1.5.0",
            "_model_name": "ProgressStyleModel",
            "_view_count": null,
            "_view_module": "@jupyter-widgets/base",
            "_view_module_version": "1.2.0",
            "_view_name": "StyleView",
            "bar_color": "black",
            "description_width": ""
          }
        }
      }
    }
  },
  "cells": [
    {
      "cell_type": "markdown",
      "source": [
        "# Install + Downloads"
      ],
      "metadata": {
        "id": "Cu0HnYWWzXYg"
      }
    },
    {
      "cell_type": "markdown",
      "source": [
        "Install DuckDB"
      ],
      "metadata": {
        "id": "zj4w06d42L_-"
      }
    },
    {
      "cell_type": "code",
      "source": [
        "!pip uninstall duckdb\n",
        "\n",
        "!pip install duckdb --pre\n"
      ],
      "metadata": {
        "colab": {
          "base_uri": "https://localhost:8080/"
        },
        "id": "pMdBkFdV2Mh6",
        "outputId": "fac6775d-0c27-4e50-d7d6-44551a814594"
      },
      "execution_count": 2,
      "outputs": [
        {
          "output_type": "stream",
          "name": "stdout",
          "text": [
            "Found existing installation: duckdb 0.7.1\n",
            "Uninstalling duckdb-0.7.1:\n",
            "  Would remove:\n",
            "    /usr/local/lib/python3.10/dist-packages/duckdb-0.7.1.dist-info/*\n",
            "    /usr/local/lib/python3.10/dist-packages/duckdb-stubs/__init__.pyi\n",
            "    /usr/local/lib/python3.10/dist-packages/duckdb.cpython-310-x86_64-linux-gnu.so\n",
            "    /usr/local/lib/python3.10/dist-packages/duckdb_query_graph/*\n",
            "Proceed (Y/n)? y\n",
            "  Successfully uninstalled duckdb-0.7.1\n",
            "Looking in indexes: https://pypi.org/simple, https://us-python.pkg.dev/colab-wheels/public/simple/\n",
            "Collecting duckdb\n",
            "  Downloading duckdb-0.7.2.dev3294-cp310-cp310-manylinux_2_17_x86_64.manylinux2014_x86_64.whl (15.5 MB)\n",
            "\u001b[2K     \u001b[90m━━━━━━━━━━━━━━━━━━━━━━━━━━━━━━━━━━━━━━━━\u001b[0m \u001b[32m15.5/15.5 MB\u001b[0m \u001b[31m27.5 MB/s\u001b[0m eta \u001b[36m0:00:00\u001b[0m\n",
            "\u001b[?25hInstalling collected packages: duckdb\n",
            "Successfully installed duckdb-0.7.2.dev3294\n"
          ]
        }
      ]
    },
    {
      "cell_type": "markdown",
      "source": [
        "Download:\n",
        "*   [NYC Taxi Dataset](https://www1.nyc.gov/site/tlc/about/tlc-trip-record-data.page)\n",
        "*   Weather Dataset\n",
        "\n"
      ],
      "metadata": {
        "id": "sYfgvzf62h65"
      }
    },
    {
      "cell_type": "code",
      "source": [
        "!wget \"https://d37ci6vzurychx.cloudfront.net/trip-data/yellow_tripdata_2016-01.parquet\"\n",
        "!wget \"https://pdet.github.io/assets/data/weather.csv\""
      ],
      "metadata": {
        "colab": {
          "base_uri": "https://localhost:8080/"
        },
        "id": "QNfEG4I92Y_a",
        "outputId": "2cb435c2-9239-47e8-a399-50355cca95ac"
      },
      "execution_count": 3,
      "outputs": [
        {
          "output_type": "stream",
          "name": "stdout",
          "text": [
            "--2023-05-09 09:33:04--  https://d37ci6vzurychx.cloudfront.net/trip-data/yellow_tripdata_2016-01.parquet\n",
            "Resolving d37ci6vzurychx.cloudfront.net (d37ci6vzurychx.cloudfront.net)... 18.160.201.5, 18.160.201.131, 18.160.201.126, ...\n",
            "Connecting to d37ci6vzurychx.cloudfront.net (d37ci6vzurychx.cloudfront.net)|18.160.201.5|:443... connected.\n",
            "HTTP request sent, awaiting response... 200 OK\n",
            "Length: 151251087 (144M) [application/x-www-form-urlencoded]\n",
            "Saving to: ‘yellow_tripdata_2016-01.parquet’\n",
            "\n",
            "yellow_tripdata_201 100%[===================>] 144.24M  76.1MB/s    in 1.9s    \n",
            "\n",
            "2023-05-09 09:33:06 (76.1 MB/s) - ‘yellow_tripdata_2016-01.parquet’ saved [151251087/151251087]\n",
            "\n",
            "--2023-05-09 09:33:06--  https://pdet.github.io/assets/data/weather.csv\n",
            "Resolving pdet.github.io (pdet.github.io)... 185.199.108.153, 185.199.109.153, 185.199.110.153, ...\n",
            "Connecting to pdet.github.io (pdet.github.io)|185.199.108.153|:443... connected.\n",
            "HTTP request sent, awaiting response... 200 OK\n",
            "Length: 11145 (11K) [text/csv]\n",
            "Saving to: ‘weather.csv’\n",
            "\n",
            "weather.csv         100%[===================>]  10.88K  --.-KB/s    in 0s      \n",
            "\n",
            "2023-05-09 09:33:06 (77.3 MB/s) - ‘weather.csv’ saved [11145/11145]\n",
            "\n"
          ]
        }
      ]
    },
    {
      "cell_type": "code",
      "source": [
        "import duckdb \n",
        "\n",
        "con = duckdb.connect()\n"
      ],
      "metadata": {
        "id": "7Zqu7HMO3kxN"
      },
      "execution_count": 5,
      "outputs": []
    },
    {
      "cell_type": "markdown",
      "source": [
        "# Inspect Datasets"
      ],
      "metadata": {
        "id": "5iBu0dcg24kG"
      }
    },
    {
      "cell_type": "markdown",
      "source": [
        "What are the columns in each dataset? What functions we use to create relation on them? How do we preview them?\n",
        "https://duckdb.org/docs/api/python/relational_api"
      ],
      "metadata": {
        "id": "jmdM8MXn3Knn"
      }
    },
    {
      "cell_type": "code",
      "source": [
        "weather = con.read_csv('weather.csv')\n",
        "\n",
        "print(weather)\n",
        "\n",
        "print(weather.columns)\n",
        "\n",
        "# Do the same for the taxi dataset\n",
        "taxi = ..."
      ],
      "metadata": {
        "colab": {
          "base_uri": "https://localhost:8080/"
        },
        "id": "p2FZ0nFa27as",
        "outputId": "22a3b546-268b-4e0d-f474-04463ceb763c"
      },
      "execution_count": 7,
      "outputs": [
        {
          "output_type": "stream",
          "name": "stdout",
          "text": [
            "┌────────────┬─────────────────────┬─────────────────────┬───┬───────────────┬───────────┬────────────┐\n",
            "│    date    │ maximum_temperature │ minimum_temperature │ … │ precipitation │ snow_fall │ snow_depth │\n",
            "│    date    │        int64        │        int64        │   │    varchar    │  varchar  │  varchar   │\n",
            "├────────────┼─────────────────────┼─────────────────────┼───┼───────────────┼───────────┼────────────┤\n",
            "│ 2016-01-01 │                  42 │                  34 │ … │ 0.00          │ 0.0       │ 0          │\n",
            "│ 2016-01-02 │                  40 │                  32 │ … │ 0.00          │ 0.0       │ 0          │\n",
            "│ 2016-01-03 │                  45 │                  35 │ … │ 0.00          │ 0.0       │ 0          │\n",
            "│ 2016-01-04 │                  36 │                  14 │ … │ 0.00          │ 0.0       │ 0          │\n",
            "│ 2016-01-05 │                  29 │                  11 │ … │ 0.00          │ 0.0       │ 0          │\n",
            "│ 2016-01-06 │                  41 │                  25 │ … │ 0.00          │ 0.0       │ 0          │\n",
            "│ 2016-01-07 │                  46 │                  31 │ … │ 0.00          │ 0.0       │ 0          │\n",
            "│ 2016-01-08 │                  46 │                  31 │ … │ 0.00          │ 0.0       │ 0          │\n",
            "│ 2016-01-09 │                  47 │                  40 │ … │ T             │ 0.0       │ 0          │\n",
            "│ 2016-01-10 │                  59 │                  40 │ … │ 1.80          │ 0.0       │ 0          │\n",
            "│     ·      │                   · │                   · │ · │ ·             │ ·         │ ·          │\n",
            "│     ·      │                   · │                   · │ · │ ·             │ ·         │ ·          │\n",
            "│     ·      │                   · │                   · │ · │ ·             │ ·         │ ·          │\n",
            "│ 2016-12-22 │                  49 │                  37 │ … │ 0             │ 0         │ 0          │\n",
            "│ 2016-12-23 │                  47 │                  38 │ … │ 0             │ 0         │ 0          │\n",
            "│ 2016-12-24 │                  47 │                  38 │ … │ 0.47          │ 0         │ 0          │\n",
            "│ 2016-12-25 │                  50 │                  36 │ … │ 0             │ 0         │ 0          │\n",
            "│ 2016-12-26 │                  50 │                  33 │ … │ 0.02          │ 0         │ 0          │\n",
            "│ 2016-12-27 │                  60 │                  40 │ … │ 0             │ 0         │ 0          │\n",
            "│ 2016-12-28 │                  40 │                  34 │ … │ 0             │ 0         │ 0          │\n",
            "│ 2016-12-29 │                  46 │                  33 │ … │ 0.39          │ 0         │ 0          │\n",
            "│ 2016-12-30 │                  40 │                  33 │ … │ 0.01          │ T         │ 0          │\n",
            "│ 2016-12-31 │                  44 │                  31 │ … │ 0             │ 0         │ 0          │\n",
            "├────────────┴─────────────────────┴─────────────────────┴───┴───────────────┴───────────┴────────────┤\n",
            "│ 366 rows (20 shown)                                                             7 columns (6 shown) │\n",
            "└─────────────────────────────────────────────────────────────────────────────────────────────────────┘\n",
            "\n",
            "['date', 'maximum_temperature', 'minimum_temperature', 'average_temperature', 'precipitation', 'snow_fall', 'snow_depth']\n"
          ]
        }
      ]
    },
    {
      "cell_type": "markdown",
      "source": [
        "Now that we used the Relational API, lets read these files as DuckDB tables\n",
        "https://duckdb.org/docs/api/python/data_ingestion"
      ],
      "metadata": {
        "id": "dNKQ7hBk3vds"
      }
    },
    {
      "cell_type": "code",
      "source": [
        "res = con.execute(\"CREATE TABLE weather as SELECT * FROM 'weather.csv'\").fetchall()\n",
        "print (res)"
      ],
      "metadata": {
        "colab": {
          "base_uri": "https://localhost:8080/"
        },
        "id": "oYJtpFaS3JKr",
        "outputId": "9fb32309-11a6-486e-95c6-5c2ea1791599"
      },
      "execution_count": 9,
      "outputs": [
        {
          "output_type": "stream",
          "name": "stdout",
          "text": [
            "[(366,)]\n"
          ]
        }
      ]
    },
    {
      "cell_type": "code",
      "source": [
        "# Do the same for the Taxi File"
      ],
      "metadata": {
        "id": "ybtNGF6a4J-X"
      },
      "execution_count": null,
      "outputs": []
    },
    {
      "cell_type": "markdown",
      "source": [
        "# Queries + Plot"
      ],
      "metadata": {
        "id": "V1JOt1X47j94"
      }
    },
    {
      "cell_type": "markdown",
      "source": [
        "What's the AVG tip value per passenger?\n",
        "The more people higher the tip?"
      ],
      "metadata": {
        "id": "KzTpZIMk5CWK"
      }
    },
    {
      "cell_type": "code",
      "source": [
        "import pandas as pd\n",
        "sql = ''' '''\n",
        "\n",
        "# Execute with SQL\n",
        "\n",
        "# Execute with the Relational API\n",
        "\n",
        "# Use a  Dataframe for plotting\n",
        "result_df = con.execute(sql).df()\n",
        "\n",
        "result_df.plot.bar(x=\"passenger_count\", y=\"tip_amount\")"
      ],
      "metadata": {
        "id": "vgA_H1yI5CCy"
      },
      "execution_count": null,
      "outputs": []
    },
    {
      "cell_type": "markdown",
      "source": [
        "Does the trip distance affects it? What about short trips (< 5 miles) and long trips (> 10 miles)?"
      ],
      "metadata": {
        "id": "8r-u9HZy7B6P"
      }
    },
    {
      "cell_type": "code",
      "source": [],
      "metadata": {
        "id": "KjiI3YbA7BK8"
      },
      "execution_count": null,
      "outputs": []
    },
    {
      "cell_type": "markdown",
      "source": [
        "How does the Weather impacts it? Colder is higher tips? If it rains?"
      ],
      "metadata": {
        "id": "osgpid0b7QeA"
      }
    },
    {
      "cell_type": "code",
      "source": [],
      "metadata": {
        "id": "SbKIB2Ps7frX"
      },
      "execution_count": null,
      "outputs": []
    },
    {
      "cell_type": "markdown",
      "source": [
        "# Data Cleaning"
      ],
      "metadata": {
        "id": "KxbBAqAW7yWA"
      }
    },
    {
      "cell_type": "markdown",
      "source": [
        "Let's say that no car in NYC can fit more than 5 passengers.\n",
        "Consider all trips with more than 5 passengers as dirty, and remove them.\n"
      ],
      "metadata": {
        "id": "0keIaPM672LJ"
      }
    },
    {
      "cell_type": "code",
      "source": [],
      "metadata": {
        "id": "UOIa8-9x76q-"
      },
      "execution_count": null,
      "outputs": []
    },
    {
      "cell_type": "markdown",
      "source": [
        "# Predicting Fare Costs with Linear Regression"
      ],
      "metadata": {
        "id": "meS5P6I977Ym"
      }
    },
    {
      "cell_type": "code",
      "source": [
        "!wget \"https://d37ci6vzurychx.cloudfront.net/trip-data/yellow_tripdata_2016-02.parquet\""
      ],
      "metadata": {
        "colab": {
          "base_uri": "https://localhost:8080/"
        },
        "id": "XMdqgZHS9Be0",
        "outputId": "7b7376b1-8b7a-407e-9f37-c36be1f6a657"
      },
      "execution_count": 10,
      "outputs": [
        {
          "output_type": "stream",
          "name": "stdout",
          "text": [
            "--2023-05-09 10:00:59--  https://d37ci6vzurychx.cloudfront.net/trip-data/yellow_tripdata_2016-02.parquet\n",
            "Resolving d37ci6vzurychx.cloudfront.net (d37ci6vzurychx.cloudfront.net)... 13.249.90.174, 13.249.90.209, 13.249.90.176, ...\n",
            "Connecting to d37ci6vzurychx.cloudfront.net (d37ci6vzurychx.cloudfront.net)|13.249.90.174|:443... connected.\n",
            "HTTP request sent, awaiting response... 200 OK\n",
            "Length: 158113739 (151M) [application/x-www-form-urlencoded]\n",
            "Saving to: ‘yellow_tripdata_2016-02.parquet’\n",
            "\n",
            "yellow_tripdata_201 100%[===================>] 150.79M  67.5MB/s    in 2.2s    \n",
            "\n",
            "2023-05-09 10:01:01 (67.5 MB/s) - ‘yellow_tripdata_2016-02.parquet’ saved [158113739/158113739]\n",
            "\n"
          ]
        }
      ]
    },
    {
      "cell_type": "code",
      "source": [
        "linear_regression_sql = \"\"\"\n",
        "  SELECT\n",
        "      (SUM(trip_distance * fare_amount) - SUM(trip_distance) * SUM(fare_amount) / COUNT(*)) /\n",
        "      (SUM(trip_distance * trip_distance) - SUM(trip_distance) * SUM(trip_distance) / COUNT(*)) AS beta,\n",
        "      AVG(fare_amount) AS avg_fare_amount,\n",
        "      AVG(trip_distance) AS avg_trip_distance\n",
        "  FROM \n",
        "      'yellow_tripdata_2016-01.parquet',\n",
        "      (\n",
        "          SELECT \n",
        "              AVG(fare_amount) + 3 * STDDEV_SAMP(fare_amount) as max_fare,\n",
        "              AVG(trip_distance) + 3 * STDDEV_SAMP(trip_distance) as max_distance\n",
        "          FROM 'yellow_tripdata_2016-01.parquet'\n",
        "      ) AS sub\n",
        "  WHERE \n",
        "      fare_amount > 0 AND\n",
        "      fare_amount < sub.max_fare AND \n",
        "      trip_distance > 0 AND\n",
        "      trip_distance < sub.max_distance\n",
        "  \"\"\"\n",
        "res = con.execute(linear_regression_sql).fetchone()\n",
        "\n",
        "beta, avg_fare_amount, avg_trip_distance = res\n",
        "alpha = avg_fare_amount - beta * avg_trip_distance\n",
        "\n",
        "duck_sample = \"SELECT trip_distance,fare_amount FROM 'yellow_tripdata_2016-02.parquet' ORDER BY RANDOM() LIMIT 1000;\"\n",
        "\n",
        "# Get a pandas dataframe from duckdb\n",
        "duck_df_sample = con.execute(duck_sample).fetchdf()\n",
        "\n",
        "duck_df_sample[\"price\"] = alpha + beta * duck_df_sample[\"trip_distance\"]\n",
        "ax = duck_df_sample.plot.scatter(x=\"trip_distance\", y=\"fare_amount\")\n",
        "duck_df_sample.plot.line(x=\"trip_distance\", y=\"price\", ax=ax, color=\"red\")\n"
      ],
      "metadata": {
        "colab": {
          "base_uri": "https://localhost:8080/",
          "height": 500,
          "referenced_widgets": [
            "466f2b7bc9494398853df1631fded357",
            "bd0c861e0cd740ac855ba5d19ca5cbc4",
            "8b460dcbaccc48e9a2568ba67f1f3312"
          ]
        },
        "id": "GLhZeuN88FUQ",
        "outputId": "f016b023-58e8-4b96-8c81-d05ec45e0e08"
      },
      "execution_count": 12,
      "outputs": [
        {
          "output_type": "display_data",
          "data": {
            "text/plain": [
              "FloatProgress(value=0.0, layout=Layout(width='auto'), style=ProgressStyle(bar_color='black'))"
            ],
            "application/vnd.jupyter.widget-view+json": {
              "version_major": 2,
              "version_minor": 0,
              "model_id": "466f2b7bc9494398853df1631fded357"
            }
          },
          "metadata": {}
        },
        {
          "output_type": "execute_result",
          "data": {
            "text/plain": [
              "<Axes: xlabel='trip_distance', ylabel='fare_amount'>"
            ]
          },
          "metadata": {},
          "execution_count": 12
        },
        {
          "output_type": "display_data",
          "data": {
            "text/plain": [
              "<Figure size 640x480 with 1 Axes>"
            ],
            "image/png": "[encoded data removed]"
          },
          "metadata": {}
        }
      ]
    },
    {
      "cell_type": "markdown",
      "source": [
        "How far off is our little SQL LR Model?"
      ],
      "metadata": {
        "id": "Oqh3gFL1-A3q"
      }
    },
    {
      "cell_type": "code",
      "source": [
        "error_sql = \"\"\"\n",
        "SELECT \n",
        "  AVG(ABS(price - fare_amount)) AS MAE,\n",
        "  SQRT(AVG((price - fare_amount) * (price - fare_amount))) AS RMSE\n",
        "FROM duck_df_sample;\n",
        "\"\"\"\n",
        "\n",
        "res = con.execute(error_sql).fetchone()\n",
        "\n",
        "print (f\"Mean absolute error: {res[0]}\")\n",
        "print (f\"Root mean squared error: {res[1]}\")"
      ],
      "metadata": {
        "colab": {
          "base_uri": "https://localhost:8080/"
        },
        "id": "8ky0Xjal9_0X",
        "outputId": "a8630f16-b652-4b07-e4b8-28ff53eabbbf"
      },
      "execution_count": 14,
      "outputs": [
        {
          "output_type": "stream",
          "name": "stdout",
          "text": [
            "Mean absolute error: 1.7691545717817025\n",
            "Root mean squared error (: 3.868878366491136\n"
          ]
        }
      ]
    },
    {
      "cell_type": "markdown",
      "source": [
        "# Python UDFs"
      ],
      "metadata": {
        "id": "TrF0rrH3_2VQ"
      }
    },
    {
      "cell_type": "code",
      "source": [
        "import pyarrow as pa \n",
        "\n",
        "def plus_one(x):\n",
        "    table = pa.lib.Table.from_arrays([x], names=['c0'])\n",
        "    import pandas as pd\n",
        "    df = pd.DataFrame(x.to_pandas())\n",
        "    df['c0'] = df['c0'] + 1\n",
        "    return pa.lib.Table.from_pandas(df)\n",
        "\n",
        "con.create_function('bla', plus_one, ['BIGINT'], 'BIGINT', type='arrow')"
      ],
      "metadata": {
        "colab": {
          "base_uri": "https://localhost:8080/"
        },
        "id": "fu877A9wAvKK",
        "outputId": "05bfcf14-8a5f-4d56-d010-b4cf15aad260"
      },
      "execution_count": 23,
      "outputs": [
        {
          "output_type": "execute_result",
          "data": {
            "text/plain": [
              "<duckdb.DuckDBPyConnection at 0x7f4b19a4d7f0>"
            ]
          },
          "metadata": {},
          "execution_count": 23
        }
      ]
    },
    {
      "cell_type": "code",
      "source": [
        "con.execute('select bla(5::BIGINT)').fetchall()"
      ],
      "metadata": {
        "colab": {
          "base_uri": "https://localhost:8080/"
        },
        "id": "Pc1RpesNBbSV",
        "outputId": "5437124c-af32-4d29-ac75-40afaa23ca2e"
      },
      "execution_count": 25,
      "outputs": [
        {
          "output_type": "execute_result",
          "data": {
            "text/plain": [
              "[(6,)]"
            ]
          },
          "metadata": {},
          "execution_count": 25
        }
      ]
    },
    {
      "cell_type": "markdown",
      "source": [
        "# Predicting Tips with Python UDFs"
      ],
      "metadata": {
        "id": "26UyVbygBhXb"
      }
    },
    {
      "cell_type": "markdown",
      "source": [
        "Use Pytorch, Tensorflow, or pure python.\n",
        "What should impact the tip? Number of passangers? Weather? Distance? Total Fare?\n",
        "\n",
        "Use the error function to check how far off you are from the predicted value."
      ],
      "metadata": {
        "id": "oVtCOjeSBssB"
      }
    },
    {
      "cell_type": "code",
      "source": [],
      "metadata": {
        "id": "JLCg8TKRB_S6"
      },
      "execution_count": null,
      "outputs": []
    }
  ]
}